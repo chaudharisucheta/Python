{
 "cells": [
  {
   "cell_type": "code",
   "execution_count": 1,
   "metadata": {},
   "outputs": [
    {
     "name": "stdout",
     "output_type": "stream",
     "text": [
      "308\n"
     ]
    }
   ],
   "source": [
    "prices = [10,20,30,45,80,23,100]\n",
    "total = 0\n",
    "for price in prices:\n",
    "    total = total + price\n",
    "print(total)"
   ]
  },
  {
   "cell_type": "code",
   "execution_count": 11,
   "metadata": {},
   "outputs": [
    {
     "name": "stdout",
     "output_type": "stream",
     "text": [
      "xx\n",
      "xx\n",
      "xx\n",
      "xx\n",
      "xxxxxx\n"
     ]
    }
   ],
   "source": [
    "numbers  = [2,2,2,2,6]\n",
    "\n",
    "for number in numbers:\n",
    "    output = ''\n",
    "    for x in range(number):\n",
    "        output +='x'\n",
    "    print(output)"
   ]
  },
  {
   "cell_type": "code",
   "execution_count": 13,
   "metadata": {},
   "outputs": [
    {
     "name": "stdout",
     "output_type": "stream",
     "text": [
      "569\n"
     ]
    }
   ],
   "source": [
    "numbers = [10,30,54,12,43,90,3,569]\n",
    "largest = numbers[0]\n",
    "for number in numbers:\n",
    "    if number > largest:\n",
    "        largest = number\n",
    "print(largest)\n",
    "    \n",
    "    "
   ]
  },
  {
   "cell_type": "code",
   "execution_count": 20,
   "metadata": {},
   "outputs": [
    {
     "name": "stdout",
     "output_type": "stream",
     "text": [
      "[2, 56, 4, 3, 5, 7, 10]\n"
     ]
    }
   ],
   "source": [
    "numbers = [2,56,4,3,2,5,7,4,10,4]\n",
    "unique = []\n",
    "for number in numbers:\n",
    "    if number not in unique:\n",
    "        unique.append(number)\n",
    "print(unique)\n",
    "        \n"
   ]
  },
  {
   "cell_type": "code",
   "execution_count": 33,
   "metadata": {},
   "outputs": [
    {
     "name": "stdout",
     "output_type": "stream",
     "text": [
      "Enter phone: 99\n",
      "! ! \n"
     ]
    }
   ],
   "source": [
    "phone = input(\"Enter phone: \")\n",
    "numbers = {\"0\" : \"Zero\", \"1\": \"One\", \"2\":\"Two\", \"3\":\"Three\", \"4\":\"Four\", \"5\":\"Five\"}\n",
    "output_str = \"\"\n",
    "for p in phone:\n",
    "    output_str += numbers.get(p,\"!\") + \" \"\n",
    "print(output_str)\n",
    "    \n"
   ]
  },
  {
   "cell_type": "code",
   "execution_count": 36,
   "metadata": {},
   "outputs": [
    {
     "name": "stdout",
     "output_type": "stream",
     "text": [
      ">Good morning :)\n",
      "Good morning 😊 \n"
     ]
    }
   ],
   "source": [
    "words = input(\">\")\n",
    "message = words.split(' ')\n",
    "emojis = {\":)\" : \"😊\", \":(\" : \"😢\"}\n",
    "o_str = \"\"\n",
    "for word in message:\n",
    "    o_str +=emojis.get(word,word)+ \" \"\n",
    "print(o_str)"
   ]
  },
  {
   "cell_type": "code",
   "execution_count": 43,
   "metadata": {},
   "outputs": [
    {
     "name": "stdout",
     "output_type": "stream",
     "text": [
      "I am Sucheta \n"
     ]
    }
   ],
   "source": [
    "class Person:\n",
    "    def __init__(self,name):\n",
    "        self.name=name\n",
    "    def talk(self):\n",
    "        print(f\"I am {self.name} \")\n",
    "\n",
    "\n",
    "person_one = Person(\"Sucheta\")\n",
    "person_one.talk()\n"
   ]
  },
  {
   "cell_type": "code",
   "execution_count": 3,
   "metadata": {},
   "outputs": [
    {
     "ename": "ModuleNotFoundError",
     "evalue": "No module named 'utils'",
     "output_type": "error",
     "traceback": [
      "\u001b[1;31m---------------------------------------------------------------------------\u001b[0m",
      "\u001b[1;31mModuleNotFoundError\u001b[0m                       Traceback (most recent call last)",
      "\u001b[1;32m<ipython-input-3-8af0899617a2>\u001b[0m in \u001b[0;36m<module>\u001b[1;34m\u001b[0m\n\u001b[0;32m      1\u001b[0m \u001b[1;32mimport\u001b[0m \u001b[0msys\u001b[0m\u001b[1;33m\u001b[0m\u001b[1;33m\u001b[0m\u001b[0m\n\u001b[0;32m      2\u001b[0m \u001b[0msys\u001b[0m\u001b[1;33m.\u001b[0m\u001b[0mpath\u001b[0m\u001b[1;33m.\u001b[0m\u001b[0mappend\u001b[0m\u001b[1;33m(\u001b[0m\u001b[1;34m'C:\\\\Users\\nxb274'\u001b[0m\u001b[1;33m)\u001b[0m\u001b[1;33m\u001b[0m\u001b[1;33m\u001b[0m\u001b[0m\n\u001b[1;32m----> 3\u001b[1;33m \u001b[1;32mimport\u001b[0m \u001b[0mutils\u001b[0m\u001b[1;33m\u001b[0m\u001b[1;33m\u001b[0m\u001b[0m\n\u001b[0m",
      "\u001b[1;31mModuleNotFoundError\u001b[0m: No module named 'utils'"
     ]
    }
   ],
   "source": [
    "import sys\n",
    "sys.path.append('C:\\\\Users\\nxb274')\n",
    "import utils"
   ]
  },
  {
   "cell_type": "code",
   "execution_count": null,
   "metadata": {},
   "outputs": [],
   "source": []
  },
  {
   "cell_type": "code",
   "execution_count": null,
   "metadata": {},
   "outputs": [],
   "source": []
  }
 ],
 "metadata": {
  "kernelspec": {
   "display_name": "Python 3",
   "language": "python",
   "name": "python3"
  },
  "language_info": {
   "codemirror_mode": {
    "name": "ipython",
    "version": 3
   },
   "file_extension": ".py",
   "mimetype": "text/x-python",
   "name": "python",
   "nbconvert_exporter": "python",
   "pygments_lexer": "ipython3",
   "version": "3.7.1"
  }
 },
 "nbformat": 4,
 "nbformat_minor": 2
}
