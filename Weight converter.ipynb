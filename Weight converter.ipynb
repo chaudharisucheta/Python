{
 "cells": [
  {
   "cell_type": "code",
   "execution_count": 7,
   "metadata": {},
   "outputs": [
    {
     "name": "stdout",
     "output_type": "stream",
     "text": [
      "Enter your weight: 56\n",
      "l(bs) or k(kg): k\n",
      "You are 124.44444444444444 lbs\n"
     ]
    }
   ],
   "source": [
    "weight = float(input(\"Enter your weight: \"))\n",
    "pound_or_kg = input(\"l(bs) or k(kg): \")\n",
    "if pound_or_kg == 'l':\n",
    "    converted = weight*0.45\n",
    "    print(f\"You are {converted} kg\")\n",
    "elif pound_or_kg == 'k':\n",
    "    converted = weight/0.45\n",
    "    print(f\"You are {converted} lbs\")\n",
    "else:\n",
    "    print(\"Wrong value...Enter again\")\n"
   ]
  },
  {
   "cell_type": "code",
   "execution_count": null,
   "metadata": {},
   "outputs": [],
   "source": []
  },
  {
   "cell_type": "code",
   "execution_count": null,
   "metadata": {},
   "outputs": [],
   "source": []
  }
 ],
 "metadata": {
  "kernelspec": {
   "display_name": "Python 3",
   "language": "python",
   "name": "python3"
  },
  "language_info": {
   "codemirror_mode": {
    "name": "ipython",
    "version": 3
   },
   "file_extension": ".py",
   "mimetype": "text/x-python",
   "name": "python",
   "nbconvert_exporter": "python",
   "pygments_lexer": "ipython3",
   "version": "3.7.1"
  }
 },
 "nbformat": 4,
 "nbformat_minor": 2
}
