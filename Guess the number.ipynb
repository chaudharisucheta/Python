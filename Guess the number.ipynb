{
 "cells": [
  {
   "cell_type": "code",
   "execution_count": null,
   "metadata": {},
   "outputs": [],
   "source": [
    "\n",
    "        \n",
    "        \n",
    "\n",
    "        \n",
    "        \n",
    "\n",
    "\n",
    "    \n",
    "\n"
   ]
  },
  {
   "cell_type": "markdown",
   "metadata": {},
   "source": []
  },
  {
   "cell_type": "code",
   "execution_count": 3,
   "metadata": {},
   "outputs": [
    {
     "name": "stdout",
     "output_type": "stream",
     "text": [
      "7\n",
      "Enter your guess :4\n",
      "Too low\n",
      "Enter your guess :9\n",
      "Too high\n",
      "Enter your guess :7\n",
      "Exactly right!!\n",
      "You took 3 tries\n"
     ]
    }
   ],
   "source": [
    "import random\n",
    "number = random.randint(1,10)\n",
    "guess_count = 0\n",
    "iput = 0\n",
    "print(number)\n",
    "while iput != exit:\n",
    "    iput =int(input(\"Enter your guess :\"))\n",
    "    guess_count += 1\n",
    "    if iput < number:\n",
    "        print(\"Too low\")\n",
    "    elif iput > number:\n",
    "        print(\"Too high\")\n",
    "    else:\n",
    "        print(\"Exactly right!!\")\n",
    "        print(\"You took\",guess_count,\"tries\")\n",
    "        break\n",
    "    "
   ]
  },
  {
   "cell_type": "code",
   "execution_count": null,
   "metadata": {},
   "outputs": [],
   "source": []
  },
  {
   "cell_type": "code",
   "execution_count": null,
   "metadata": {},
   "outputs": [],
   "source": []
  }
 ],
 "metadata": {
  "kernelspec": {
   "display_name": "Python 3",
   "language": "python",
   "name": "python3"
  },
  "language_info": {
   "codemirror_mode": {
    "name": "ipython",
    "version": 3
   },
   "file_extension": ".py",
   "mimetype": "text/x-python",
   "name": "python",
   "nbconvert_exporter": "python",
   "pygments_lexer": "ipython3",
   "version": "3.7.1"
  }
 },
 "nbformat": 4,
 "nbformat_minor": 2
}
