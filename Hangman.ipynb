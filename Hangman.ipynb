{
 "cells": [
  {
   "cell_type": "code",
   "execution_count": 10,
   "metadata": {},
   "outputs": [
    {
     "name": "stdout",
     "output_type": "stream",
     "text": [
      "Welcome to Hangman..\n",
      "You have 8 chances to guess the correct word\n",
      "-------\n",
      "Enter a lettera\n",
      "a-----a\n",
      "Enter a letterm\n",
      "am----a\n",
      "Enter a lettert\n",
      "You have 7 attempts remaining\n",
      "am----a\n",
      "Enter a letterA\n",
      "You have already selected this alphabet before...Please try again\n",
      "am----a\n",
      "Enter a letterc\n",
      "am---ca\n",
      "Enter a lettere\n",
      "ame--ca\n",
      "Enter a lettera\n",
      "You have already selected this alphabet before...Please try again\n",
      "ame--ca\n",
      "Enter a letterr\n",
      "amer-ca\n",
      "Enter a letteri\n",
      "Congratulations!!You won\n"
     ]
    }
   ],
   "source": [
    "import random\n",
    "#Welcome\n",
    "print(\"Welcome to Hangman..\")\n",
    "#Select a word\n",
    "f = open(\"words.txt\",\"r\").read()\n",
    "word = f.split()\n",
    "myword=random.choice(word)\n",
    "#set chances\n",
    "attempts= 8\n",
    "print(\"You have 8 chances to guess the correct word\")\n",
    "guessed=[]\n",
    "word_guessed=[]\n",
    "guess=''\n",
    "joinedword=None\n",
    "for i in myword:\n",
    "    word_guessed.append(\"-\")\n",
    "while attempts>0 and \"-\" in word_guessed:\n",
    "    joinedword=\"\".join(word_guessed)\n",
    "    print(joinedword)\n",
    "    guess=str(input(\"Enter a letter\")).lower()\n",
    "    #check input validity\n",
    "    if guess in guessed:\n",
    "       print(\"You have already selected this alphabet before...Please try again\")\n",
    "       continue\n",
    "    guessed.append(guess)\n",
    "    #compare   \n",
    "    for i in range(len(myword)):\n",
    "        if guess == myword[i]:\n",
    "            word_guessed[i]=guess\n",
    "    \n",
    "    if guess not in myword:\n",
    "        attempts=attempts -1\n",
    "        print(\"You have\",attempts,\"attempts remaining\")\n",
    "if \"-\" not in word_guessed:\n",
    "    print(\"Congratulations!!You won\")\n",
    "else:\n",
    "    print(\"Sorry!!You lost\")\n",
    "    print(\"The correct word is \"+ myword)\n",
    "    \n",
    "            \n",
    "                \n",
    "            \n",
    "                \n",
    "\n",
    "\n",
    "                \n",
    "                \n",
    "\n",
    "\n",
    "\n",
    "\n"
   ]
  },
  {
   "cell_type": "code",
   "execution_count": null,
   "metadata": {},
   "outputs": [],
   "source": []
  },
  {
   "cell_type": "code",
   "execution_count": null,
   "metadata": {},
   "outputs": [],
   "source": []
  }
 ],
 "metadata": {
  "kernelspec": {
   "display_name": "Python 3",
   "language": "python",
   "name": "python3"
  },
  "language_info": {
   "codemirror_mode": {
    "name": "ipython",
    "version": 3
   },
   "file_extension": ".py",
   "mimetype": "text/x-python",
   "name": "python",
   "nbconvert_exporter": "python",
   "pygments_lexer": "ipython3",
   "version": "3.7.1"
  }
 },
 "nbformat": 4,
 "nbformat_minor": 2
}
