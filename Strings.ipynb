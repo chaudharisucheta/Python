{
 "cells": [
  {
   "cell_type": "code",
   "execution_count": 4,
   "metadata": {},
   "outputs": [
    {
     "name": "stdout",
     "output_type": "stream",
     "text": [
      "Enter a stringstring\n",
      "6\n",
      "['s', 't', 'r', 'i', 'n', 'g']\n",
      "['g', 'n', 'i', 'r', 't', 's']\n",
      "Not a palindrome\n"
     ]
    }
   ],
   "source": [
    "istr = input(\"Enter a string\")\n",
    "l = len(istr)\n",
    "l1 =[]\n",
    "l2 =[]\n",
    "i=0\n",
    "while i < l:\n",
    "    l1.append(istr[i])\n",
    "    i=i+1\n",
    "j=l\n",
    "\n",
    "print(j)\n",
    "while j > 0:\n",
    "    l2.append(istr[j-1])\n",
    "    j=j-1\n",
    "print(l1)\n",
    "print(l2)\n",
    "if (l1 == l2):\n",
    "    print(\"Palindrome\")\n",
    "else:\n",
    "    print(\"Not a palindrome\")\n",
    "\n",
    "        "
   ]
  },
  {
   "cell_type": "code",
   "execution_count": 7,
   "metadata": {},
   "outputs": [
    {
     "name": "stdout",
     "output_type": "stream",
     "text": [
      "Enter a string\n",
      "laszx\n",
      "Not a palindrome\n"
     ]
    }
   ],
   "source": [
    "istr = input(\"Enter a string\\n\")\n",
    "if istr[::-1] == istr:\n",
    "    print(\"Palindrome\")\n",
    "else:\n",
    "    print(\"Not a palindrome\")"
   ]
  },
  {
   "cell_type": "code",
   "execution_count": 18,
   "metadata": {},
   "outputs": [
    {
     "name": "stdout",
     "output_type": "stream",
     "text": [
      "[]\n"
     ]
    }
   ],
   "source": []
  },
  {
   "cell_type": "markdown",
   "metadata": {},
   "source": []
  },
  {
   "cell_type": "markdown",
   "metadata": {},
   "source": []
  },
  {
   "cell_type": "code",
   "execution_count": 1,
   "metadata": {},
   "outputs": [
    {
     "name": "stdout",
     "output_type": "stream",
     "text": [
      "['Python']\n"
     ]
    }
   ],
   "source": [
    "a = []\n",
    "a.append(\"Python\")\n",
    "print(a[:3])"
   ]
  },
  {
   "cell_type": "code",
   "execution_count": null,
   "metadata": {},
   "outputs": [],
   "source": []
  }
 ],
 "metadata": {
  "kernelspec": {
   "display_name": "Python 3",
   "language": "python",
   "name": "python3"
  },
  "language_info": {
   "codemirror_mode": {
    "name": "ipython",
    "version": 3
   },
   "file_extension": ".py",
   "mimetype": "text/x-python",
   "name": "python",
   "nbconvert_exporter": "python",
   "pygments_lexer": "ipython3",
   "version": "3.7.1"
  }
 },
 "nbformat": 4,
 "nbformat_minor": 2
}
