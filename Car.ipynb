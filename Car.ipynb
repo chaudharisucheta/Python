{
 "cells": [
  {
   "cell_type": "code",
   "execution_count": 3,
   "metadata": {},
   "outputs": [
    {
     "name": "stdout",
     "output_type": "stream",
     "text": [
      " >fdf\n",
      "Sorry, I don't understand that\n",
      " >fjjf\n",
      "Sorry, I don't understand that\n",
      " >start\n",
      "Car started.\n",
      " >start\n",
      "Car is already started...!!\n",
      " >quit\n"
     ]
    }
   ],
   "source": [
    "command = \"\"\n",
    "started = False\n",
    "while True:\n",
    "    command = input(\" >\").lower()\n",
    "    if command == 'start':\n",
    "        if started:\n",
    "            print(\"Car is already started...!!\")\n",
    "        else:\n",
    "            started =True\n",
    "            print(\"Car started.\")\n",
    "    elif command == 'stop':\n",
    "        if not started:\n",
    "            print(\"Car is already stopped..!!\")\n",
    "        else:\n",
    "            started =False\n",
    "            print(\"Car stopped.\")\n",
    "    elif command == 'quit':\n",
    "        break\n",
    "    else:\n",
    "        print(\"Sorry, I don't understand that\")\n",
    "\n",
    "        \n",
    "    "
   ]
  },
  {
   "cell_type": "code",
   "execution_count": null,
   "metadata": {},
   "outputs": [],
   "source": []
  },
  {
   "cell_type": "code",
   "execution_count": null,
   "metadata": {},
   "outputs": [],
   "source": []
  }
 ],
 "metadata": {
  "kernelspec": {
   "display_name": "Python 3",
   "language": "python",
   "name": "python3"
  },
  "language_info": {
   "codemirror_mode": {
    "name": "ipython",
    "version": 3
   },
   "file_extension": ".py",
   "mimetype": "text/x-python",
   "name": "python",
   "nbconvert_exporter": "python",
   "pygments_lexer": "ipython3",
   "version": "3.7.1"
  }
 },
 "nbformat": 4,
 "nbformat_minor": 2
}
