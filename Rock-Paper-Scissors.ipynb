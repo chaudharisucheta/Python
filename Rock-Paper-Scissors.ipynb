{
 "cells": [
  {
   "cell_type": "code",
   "execution_count": 3,
   "metadata": {},
   "outputs": [
    {
     "name": "stdout",
     "output_type": "stream",
     "text": [
      "Enter your name player1: N\n",
      "Enter your name player2: S\n",
      "Enter your input (rock/paper/scissors): paper\n",
      "Enter your input (rock/paper/scissors): scissors\n",
      "Congratulations!!S\n",
      "Do you want to play again? Y/N: N\n",
      "Thankyou for playing!!\n"
     ]
    }
   ],
   "source": [
    "player1=input(\"Enter your name player1: \")\n",
    "player2=input(\"Enter your name player2: \")\n",
    "again = \"Y\"\n",
    "while again == 'Y':\n",
    "    input1=input(\"Enter your input (rock/paper/scissors): \")\n",
    "    input2=input(\"Enter your input (rock/paper/scissors): \")\n",
    "    if input1 == \"rock\" and input2==\"paper\":\n",
    "        print(\"Congratulations!!\"+player2)\n",
    "    if input1 == \"paper\" and input2==\"rock\":\n",
    "        print(\"Congratulations!!\"+player1)\n",
    "    if input1 == \"rock\" and input2 == \"scissors\":\n",
    "        print(\"Congratulations!!\"+player1)\n",
    "    if input1 == \"scissors\" and input2 == \"rock\":\n",
    "        print(\"Congratulations!!\"+player2)\n",
    "    if input1 == \"paper\" and input2 == \"scissors\":\n",
    "        print(\"Congratulations!!\"+player2)\n",
    "    if input1 == \"scissors\" and input2 == \"paper\":\n",
    "        print(\"Congratulations!!\"+player1)\n",
    "    if input1 == input2:\n",
    "        print(\"Draw\")\n",
    "    again=input(\"Do you want to play again? Y/N: \")    \n",
    "    \n",
    "    \n",
    "print(\"Thankyou for playing!!\")\n"
   ]
  },
  {
   "cell_type": "code",
   "execution_count": null,
   "metadata": {},
   "outputs": [],
   "source": []
  },
  {
   "cell_type": "code",
   "execution_count": null,
   "metadata": {},
   "outputs": [],
   "source": []
  }
 ],
 "metadata": {
  "kernelspec": {
   "display_name": "Python 3",
   "language": "python",
   "name": "python3"
  },
  "language_info": {
   "codemirror_mode": {
    "name": "ipython",
    "version": 3
   },
   "file_extension": ".py",
   "mimetype": "text/x-python",
   "name": "python",
   "nbconvert_exporter": "python",
   "pygments_lexer": "ipython3",
   "version": "3.7.1"
  }
 },
 "nbformat": 4,
 "nbformat_minor": 2
}
