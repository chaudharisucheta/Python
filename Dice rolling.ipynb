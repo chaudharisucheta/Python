{
 "cells": [
  {
   "cell_type": "code",
   "execution_count": 1,
   "metadata": {},
   "outputs": [
    {
     "name": "stdout",
     "output_type": "stream",
     "text": [
      "My first Jupyter Notebook program\n"
     ]
    }
   ],
   "source": [
    "print(\"My first Jupyter Notebook program\")"
   ]
  },
  {
   "cell_type": "code",
   "execution_count": 17,
   "metadata": {},
   "outputs": [],
   "source": [
    "def diceroll(roll):\n",
    "    while(roll == 'Y'):\n",
    "        print(\"Rolling the dices..and the values are\")\n",
    "        print(random.randrange(1,6))\n",
    "        print(random.randrange(1,6))\n",
    "        roll=input(\"Do you want to roll again? Y/N\")\n",
    "    return"
   ]
  },
  {
   "cell_type": "code",
   "execution_count": 18,
   "metadata": {},
   "outputs": [
    {
     "name": "stdout",
     "output_type": "stream",
     "text": [
      "Do you want to roll? Y/NY\n",
      "Rolling the dices..and the values are\n",
      "2\n",
      "4\n",
      "Do you want to roll again? Y/NN\n"
     ]
    }
   ],
   "source": [
    "rollfirst=input(\"Do you want to roll? Y/N\")\n",
    "if rollfirst == 'Y':\n",
    "    diceroll(rollfirst)\n",
    "else:\n",
    "    print(\"Bye\")"
   ]
  },
  {
   "cell_type": "code",
   "execution_count": null,
   "metadata": {},
   "outputs": [],
   "source": []
  },
  {
   "cell_type": "code",
   "execution_count": null,
   "metadata": {},
   "outputs": [],
   "source": []
  }
 ],
 "metadata": {
  "kernelspec": {
   "display_name": "Python 3",
   "language": "python",
   "name": "python3"
  },
  "language_info": {
   "codemirror_mode": {
    "name": "ipython",
    "version": 3
   },
   "file_extension": ".py",
   "mimetype": "text/x-python",
   "name": "python",
   "nbconvert_exporter": "python",
   "pygments_lexer": "ipython3",
   "version": "3.7.1"
  }
 },
 "nbformat": 4,
 "nbformat_minor": 2
}
